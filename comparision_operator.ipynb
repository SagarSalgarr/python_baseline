{
 "cells": [
  {
   "cell_type": "code",
   "execution_count": 1,
   "metadata": {},
   "outputs": [
    {
     "data": {
      "text/plain": [
       "True"
      ]
     },
     "execution_count": 1,
     "metadata": {},
     "output_type": "execute_result"
    }
   ],
   "source": [
    "1<2<3"
   ]
  },
  {
   "cell_type": "code",
   "execution_count": 2,
   "metadata": {},
   "outputs": [
    {
     "data": {
      "text/plain": [
       "True"
      ]
     },
     "execution_count": 2,
     "metadata": {},
     "output_type": "execute_result"
    }
   ],
   "source": [
    "1<3>2"
   ]
  },
  {
   "cell_type": "code",
   "execution_count": 3,
   "metadata": {},
   "outputs": [
    {
     "data": {
      "text/plain": [
       "False"
      ]
     },
     "execution_count": 3,
     "metadata": {},
     "output_type": "execute_result"
    }
   ],
   "source": [
    "1>3<2"
   ]
  },
  {
   "cell_type": "code",
   "execution_count": 4,
   "metadata": {},
   "outputs": [
    {
     "data": {
      "text/plain": [
       "True"
      ]
     },
     "execution_count": 4,
     "metadata": {},
     "output_type": "execute_result"
    }
   ],
   "source": [
    "1<2 and 2<3"
   ]
  },
  {
   "cell_type": "code",
   "execution_count": 8,
   "metadata": {},
   "outputs": [
    {
     "data": {
      "text/plain": [
       "True"
      ]
     },
     "execution_count": 8,
     "metadata": {},
     "output_type": "execute_result"
    }
   ],
   "source": [
    "float('inf') ==  float('inf')"
   ]
  },
  {
   "cell_type": "code",
   "execution_count": 9,
   "metadata": {},
   "outputs": [
    {
     "name": "stdout",
     "output_type": "stream",
     "text": [
      "3.14 is greater than 2.71\n",
      "Both values are positive infinity\n",
      "One of the values is positive infinity\n",
      "One or both values are not valid floating-point numbers\n",
      "One or both values are not valid floating-point numbers\n"
     ]
    }
   ],
   "source": [
    "def compare_values(value1, value2):\n",
    "    try:\n",
    "        float_value1 = float(value1)\n",
    "        float_value2 = float(value2)\n",
    "\n",
    "        # Check if both values are positive infinity\n",
    "        if float_value1 == float('inf') and float_value2 == float('inf'):\n",
    "            return \"Both values are positive infinity\"\n",
    "\n",
    "        # Check if any of the values are positive infinity\n",
    "        elif float_value1 == float('inf') or float_value2 == float('inf'):\n",
    "            return \"One of the values is positive infinity\"\n",
    "\n",
    "        # Check for regular comparison\n",
    "        elif float_value1 < float_value2:\n",
    "            return f\"{value1} is less than {value2}\"\n",
    "        elif float_value1 > float_value2:\n",
    "            return f\"{value1} is greater than {value2}\"\n",
    "        elif float_value1 == float_value2:\n",
    "            return f\"{value1} is equal to {value2}\"\n",
    "\n",
    "    except ValueError:\n",
    "        # Handle cases where conversion to float fails\n",
    "        return \"One or both values are not valid floating-point numbers\"\n",
    "        \n",
    "print(compare_values('3.14', '2.71'))           # Regular comparison\n",
    "print(compare_values('inf', 'inf'))             # Both values are positive infinity\n",
    "print(compare_values('inf', '3.14'))            # One value is positive infinity\n",
    "print(compare_values('3.14', 'hello'))          # Invalid conversion for one value\n",
    "print(compare_values('hello', 'world'))         # Invalid conversion for both values\n"
   ]
  }
 ],
 "metadata": {
  "kernelspec": {
   "display_name": "Python 3",
   "language": "python",
   "name": "python3"
  },
  "language_info": {
   "codemirror_mode": {
    "name": "ipython",
    "version": 3
   },
   "file_extension": ".py",
   "mimetype": "text/x-python",
   "name": "python",
   "nbconvert_exporter": "python",
   "pygments_lexer": "ipython3",
   "version": "3.8.10"
  }
 },
 "nbformat": 4,
 "nbformat_minor": 2
}

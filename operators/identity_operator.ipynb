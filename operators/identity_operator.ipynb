{
 "cells": [
  {
   "cell_type": "code",
   "execution_count": 1,
   "metadata": {},
   "outputs": [
    {
     "name": "stdout",
     "output_type": "stream",
     "text": [
      "a is b: True\n"
     ]
    }
   ],
   "source": [
    "a = 10\n",
    "b = 10\n",
    "print(\"a is b:\", a is b) "
   ]
  },
  {
   "cell_type": "code",
   "execution_count": 2,
   "metadata": {},
   "outputs": [
    {
     "name": "stdout",
     "output_type": "stream",
     "text": [
      "list1 is list2: False\n",
      "list1 is list3: True\n"
     ]
    }
   ],
   "source": [
    "list1 = [1, 2, 3]\n",
    "list2 = [1, 2, 3]\n",
    "list3 = list1\n",
    "\n",
    "print(\"list1 is list2:\", list1 is list2)  \n",
    "print(\"list1 is list3:\", list1 is list3)"
   ]
  },
  {
   "cell_type": "code",
   "execution_count": 3,
   "metadata": {},
   "outputs": [
    {
     "name": "stdout",
     "output_type": "stream",
     "text": [
      "string1 is string2: True\n",
      "string1 is not string3: True\n"
     ]
    }
   ],
   "source": [
    "string1 = \"hello\"\n",
    "string2 = \"hello\"\n",
    "string3 = \"world\"\n",
    "\n",
    "print(\"string1 is string2:\", string1 is string2)  \n",
    "print(\"string1 is not string3:\", string1 is not string3) "
   ]
  },
  {
   "cell_type": "code",
   "execution_count": 4,
   "metadata": {},
   "outputs": [
    {
     "name": "stdout",
     "output_type": "stream",
     "text": [
      "The inputs reference different objects.\n"
     ]
    }
   ],
   "source": [
    "def compare_user_input():\n",
    "    input1 = input(\"Enter the first input: \")\n",
    "    input2 = input(\"Enter the second input: \")\n",
    "    \n",
    "    if input1 is input2:\n",
    "        print(\"The inputs reference the same object.\")\n",
    "    else:\n",
    "        print(\"The inputs reference different objects.\")\n",
    "\n",
    "compare_user_input()\n"
   ]
  }
 ],
 "metadata": {
  "kernelspec": {
   "display_name": "Python 3",
   "language": "python",
   "name": "python3"
  },
  "language_info": {
   "codemirror_mode": {
    "name": "ipython",
    "version": 3
   },
   "file_extension": ".py",
   "mimetype": "text/x-python",
   "name": "python",
   "nbconvert_exporter": "python",
   "pygments_lexer": "ipython3",
   "version": "3.8.10"
  }
 },
 "nbformat": 4,
 "nbformat_minor": 2
}
